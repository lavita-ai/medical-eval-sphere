{
 "cells": [
  {
   "cell_type": "code",
   "execution_count": 1,
   "metadata": {},
   "outputs": [],
   "source": [
    "import os\n",
    "import sys\n",
    "\n",
    "sys.path.insert(0, os.path.abspath('..') + '/src')\n",
    "\n",
    "import ast\n",
    "import csv\n",
    "import json\n",
    "import pickle\n",
    "import tiktoken\n",
    "import numpy as np\n",
    "import pandas as pd\n",
    "\n",
    "from inference import GenTools\n",
    "from utils import ClusteringTools\n",
    "\n",
    "from ast import literal_eval\n",
    "from datetime import datetime\n",
    "from datasets import load_dataset\n",
    "\n",
    "gen_tools = GenTools()\n",
    "clustering_tools = ClusteringTools()"
   ]
  },
  {
   "cell_type": "markdown",
   "metadata": {},
   "source": [
    "## Similarity Analysis\n",
    "\n",
    "Our goal in this notebook is to accomplish the following:\n",
    "\n",
    "* Find highly similar texts (medical questions) within our dataset and deduplicate it semantically. We refer to this part as `Intra-dataset` similarity analysis.\n",
    "\n",
    "* Compare our dataset with existing consumer medical/health question datasets to measure its novelty. We refer to this section as `Inter-dataset` similarity analysis."
   ]
  },
  {
   "cell_type": "markdown",
   "metadata": {},
   "source": [
    "### Computing embeddings\n",
    "Before clustering the questions, we need to obtain numerical representations (embeddings) of the samples in all datasets."
   ]
  },
  {
   "cell_type": "code",
   "execution_count": 4,
   "metadata": {},
   "outputs": [],
   "source": [
    "lavita_path = \"../data/assist/lavita_assist_processed_v1_nov2024.csv\"\n",
    "\n",
    "df_lavita = pd.read_csv(lavita_path)\n",
    "df_lavita = gen_tools.get_embeddings(df_lavita)"
   ]
  },
  {
   "cell_type": "code",
   "execution_count": 3,
   "metadata": {},
   "outputs": [],
   "source": [
    "# saving the embeddings\n",
    "gen_tools.save_embeddings(df_lavita, lavita_path)"
   ]
  },
  {
   "cell_type": "markdown",
   "metadata": {},
   "source": [
    "## `Intra-dataset` similarity analysis"
   ]
  },
  {
   "cell_type": "code",
   "execution_count": 6,
   "metadata": {},
   "outputs": [],
   "source": [
    "get_embeddings = clustering_tools.find_clusters(df_lavita, similarity_threshold=0.75)"
   ]
  },
  {
   "cell_type": "code",
   "execution_count": 5,
   "metadata": {},
   "outputs": [],
   "source": [
    "df_lavita = clustering_tools.select_cluster_representatives(df_lavita, method='medoid')"
   ]
  },
  {
   "cell_type": "markdown",
   "metadata": {},
   "source": [
    "### Printing and visualizing clusters"
   ]
  },
  {
   "cell_type": "code",
   "execution_count": 6,
   "metadata": {},
   "outputs": [],
   "source": [
    "# clustering_tools.print_clusters(df, text_column='corrected_query')\n",
    "# clustering_tools.visualize_clusters(df)"
   ]
  },
  {
   "cell_type": "code",
   "execution_count": 7,
   "metadata": {},
   "outputs": [],
   "source": [
    "gen_tools.save_embeddings(df_lavita, lavita_path)"
   ]
  },
  {
   "cell_type": "markdown",
   "metadata": {},
   "source": [
    "## `Inter-dataset` similarity analysis"
   ]
  },
  {
   "cell_type": "code",
   "execution_count": 8,
   "metadata": {},
   "outputs": [],
   "source": [
    "medredqa_datapath = \"../data/medredqa/medredqa_train.csv\"\n",
    "mashqa_datapath = \"../data/mashqa/mashqa_dataset.csv\"\n",
    "\n",
    "df_medredqa = pd.read_csv(medredqa_datapath, index_col=0) # from Reddit\n",
    "df_mashqa = pd.read_csv(mashqa_datapath, index_col=0) # from WebMD\n",
    "df_healthsearchqa = load_dataset(\"katielink/healthsearchqa\", \"all_data\")['train'].to_pandas()\n",
    "\n",
    "df_medredqa = df_medredqa.dropna(subset=['Body'])\n",
    "df_medredqa.rename(columns={'Body': 'question'}, inplace=True)\n",
    "df_mashqa = df_mashqa.dropna(subset=['question'])\n",
    "df_healthsearchqa = df_healthsearchqa.dropna(subset=['question'])"
   ]
  },
  {
   "cell_type": "code",
   "execution_count": 9,
   "metadata": {},
   "outputs": [
    {
     "data": {
      "text/plain": [
       "32"
      ]
     },
     "execution_count": 9,
     "metadata": {},
     "output_type": "execute_result"
    }
   ],
   "source": [
    "# Separating equally sized samples from other datasets\n",
    "\n",
    "n = len(df_lavita)\n",
    "\n",
    "df_medredqa = df_medredqa.sample(n=n)\n",
    "df_mashqa = df_mashqa.sample(n=n)\n",
    "df_healthsearchqa = df_healthsearchqa.sample(n=n)\n",
    "\n",
    "n"
   ]
  },
  {
   "cell_type": "markdown",
   "metadata": {},
   "source": [
    "### Computing `embeddings`"
   ]
  },
  {
   "cell_type": "code",
   "execution_count": 10,
   "metadata": {},
   "outputs": [],
   "source": [
    "dataframes = {\n",
    "    \"df_medredqa\": df_medredqa,\n",
    "    \"df_mashqa\": df_mashqa,\n",
    "    \"df_healthsearchqa\": df_healthsearchqa\n",
    "}\n",
    "\n",
    "for name, df in dataframes.items():\n",
    "    processed_df = gen_tools.get_embeddings(df, text_field='question')\n",
    "    gen_tools.save_embeddings(processed_df, f'../data/embedding/{name}.csv')"
   ]
  },
  {
   "cell_type": "markdown",
   "metadata": {},
   "source": [
    "### Loading `embeddings` (if already computed)"
   ]
  },
  {
   "cell_type": "code",
   "execution_count": 3,
   "metadata": {},
   "outputs": [],
   "source": [
    "file_paths = {\n",
    "    \"df_medredqa\": '../data/embedding/df_medredqa.csv',\n",
    "    \"df_mashqa\": '../data/embedding/df_mashqa.csv',\n",
    "    \"df_healthsearchqa\": '../data/embedding/df_healthsearchqa.csv'\n",
    "}\n",
    "\n",
    "dataframes = {}\n",
    "\n",
    "for name, path in file_paths.items():\n",
    "    df = pd.read_csv(path)\n",
    "    dataframes[name] = gen_tools.get_embeddings(df)\n",
    "\n",
    "# Unpack the dataframes if needed for further use\n",
    "df_medredqa = dataframes[\"df_medredqa\"]\n",
    "df_mashqa = dataframes[\"df_mashqa\"]\n",
    "df_healthsearchqa = dataframes[\"df_healthsearchqa\"]"
   ]
  },
  {
   "cell_type": "markdown",
   "metadata": {},
   "source": [
    "### Computing similarities"
   ]
  },
  {
   "cell_type": "code",
   "execution_count": 5,
   "metadata": {},
   "outputs": [
    {
     "name": "stdout",
     "output_type": "stream",
     "text": [
      "Similarity between df_lavita and df_medredqa: 0.17197970865129236\n",
      "Similarity between df_lavita and df_mashqa: 0.13927965002927517\n",
      "Similarity between df_lavita and df_healthsearchqa: 0.11262392846830312\n",
      "Similarity between df_medredqa and df_mashqa: 0.16457407103930738\n",
      "Similarity between df_medredqa and df_healthsearchqa: 0.1607428507093692\n",
      "Similarity between df_mashqa and df_healthsearchqa: 0.1219706761923767\n"
     ]
    }
   ],
   "source": [
    "import itertools\n",
    "\n",
    "dataframes = {\n",
    "    \"df_lavita\": df_lavita,\n",
    "    \"df_medredqa\": df_medredqa,\n",
    "    \"df_mashqa\": df_mashqa,\n",
    "    \"df_healthsearchqa\": df_healthsearchqa\n",
    "}\n",
    "\n",
    "# Generate all unique pairs of dataframes\n",
    "for (name1, df1), (name2, df2) in itertools.combinations(dataframes.items(), 2):\n",
    "    average_similarity, similarities = clustering_tools.dataset_similarity(\n",
    "        df1['embedding'], df2['embedding']\n",
    "    )\n",
    "    print(f\"Similarity between {name1} and {name2}: {average_similarity}\")"
   ]
  },
  {
   "cell_type": "code",
   "execution_count": 17,
   "metadata": {},
   "outputs": [
    {
     "data": {
      "image/png": "[encoded data removed]",
      "text/plain": [
       "<Figure size 720x504 with 1 Axes>"
      ]
     },
     "metadata": {},
     "output_type": "display_data"
    }
   ],
   "source": [
    "import pandas as pd\n",
    "import networkx as nx\n",
    "import matplotlib.pyplot as plt\n",
    "import seaborn as sns\n",
    "import numpy as np\n",
    "\n",
    "# Step 1: Load data into a DataFrame\n",
    "data = [\n",
    "    [\"Lavita\", \"MedRedQA\", 0.17195100144771133],\n",
    "    [\"Lavita\", \"MASHQA\", 0.130476996527919],\n",
    "    [\"Lavita\", \"HealthSearchQA\", 0.127267373056276],\n",
    "    [\"MedRedQA\", \"MASHQA\", 0.16707875942634082],\n",
    "    [\"MedRedQA\", \"HealthSearchQA\", 0.1687610158527908],\n",
    "    [\"MASHQA\", \"HealthSearchQA\", 0.13433413401553576]\n",
    "]\n",
    "\n",
    "df = pd.DataFrame(data, columns=[\"Source\", \"Target\", \"Weight\"])\n",
    "\n",
    "# Step 2: Create a graph\n",
    "G = nx.Graph()\n",
    "\n",
    "# Add edges with weights\n",
    "for index, row in df.iterrows():\n",
    "    G.add_edge(row['Source'], row['Target'], weight=row['Weight'])\n",
    "\n",
    "# Step 3: Visualize the network\n",
    "plt.figure(figsize=(10, 7))\n",
    "\n",
    "# Define positions using a spring layout\n",
    "pos = nx.spring_layout(G, seed=42)\n",
    "\n",
    "# Draw nodes\n",
    "nx.draw_networkx_nodes(G, pos, node_size=700, node_color='skyblue')\n",
    "\n",
    "# Draw edges with varying widths based on weight\n",
    "edges = G.edges(data=True)\n",
    "weights = [edge[2]['weight'] * 10 for edge in edges]  # Scale weights for visibility\n",
    "nx.draw_networkx_edges(G, pos, edgelist=edges, width=weights, alpha=0.7)\n",
    "\n",
    "# Draw labels\n",
    "nx.draw_networkx_labels(G, pos, font_size=12, font_family=\"sans-serif\")\n",
    "\n",
    "# Draw edge labels with weights\n",
    "edge_labels = {(u, v): f\"{w['weight']:.2f}\" for u, v, w in G.edges(data=True)}\n",
    "nx.draw_networkx_edge_labels(G, pos, edge_labels=edge_labels)\n",
    "\n",
    "plt.title(\"Network Visualization of Data\")\n",
    "plt.axis('off')  # Turn off axis\n",
    "plt.show()\n"
   ]
  },
  {
   "cell_type": "code",
   "execution_count": null,
   "metadata": {},
   "outputs": [],
   "source": []
  }
 ],
 "metadata": {
  "kernelspec": {
   "display_name": "eval-sphere",
   "language": "python",
   "name": "eval-sphere"
  },
  "language_info": {
   "codemirror_mode": {
    "name": "ipython",
    "version": 3
   },
   "file_extension": ".py",
   "mimetype": "text/x-python",
   "name": "python",
   "nbconvert_exporter": "python",
   "pygments_lexer": "ipython3",
   "version": "3.9.20"
  }
 },
 "nbformat": 4,
 "nbformat_minor": 4
}
