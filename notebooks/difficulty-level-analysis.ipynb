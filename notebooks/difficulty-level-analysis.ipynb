{
 "cells": [
  {
   "cell_type": "code",
   "execution_count": 2,
   "metadata": {},
   "outputs": [],
   "source": [
    "import os\n",
    "import sys\n",
    "import csv\n",
    "import json\n",
    "\n",
    "sys.path.insert(0, os.path.abspath('..') + '/src')\n",
    "\n",
    "import pandas as pd\n",
    "import matplotlib.pyplot as plt"
   ]
  },
  {
   "cell_type": "markdown",
   "metadata": {},
   "source": [
    "## Difficulty level of medical questions"
   ]
  },
  {
   "cell_type": "markdown",
   "metadata": {},
   "source": [
    "To build a fair benchmark, we need to include questions with various difficulty levels. Based on the difficulty criteria for medical tasks introduced in [AlpaCare](https://arxiv.org/abs/2310.14558), we slightly changed the criteria for medical question difficulty level annotation. Then we annotated all medical questions in our benchmark using GPT-4 and this criteria. Here's how to run this script:\n",
    "\n",
    "```\n",
    "python llm_annotation.py \\\n",
    "        --input-path ../data/lavita_eval_clustered_04-30-2024.csv \\\n",
    "        --output-path ../data \\\n",
    "        --text-columns corrected_input_text \\\n",
    "        --prompt-template ../prompt/difficulty_level_annotation_lavita.txt \\\n",
    "        --annotator-models openai_gpt-4-0125-preview \\\n",
    "        --log_steps 1 \\\n",
    "```"
   ]
  },
  {
   "cell_type": "code",
   "execution_count": 3,
   "metadata": {},
   "outputs": [
    {
     "data": {
      "image/png": "[encoded data removed]",
      "text/plain": [
       "<Figure size 432x288 with 1 Axes>"
      ]
     },
     "metadata": {
      "needs_background": "light"
     },
     "output_type": "display_data"
    }
   ],
   "source": [
    "df = pd.read_csv('../data/llm_ann-01-05-2024_21-57-18.csv')\n",
    "\n",
    "df['difficulty'] = df['openai_gpt4_step2'].apply(lambda x: json.loads(x)['difficulty'])\n",
    "\n",
    "counts = df['difficulty'].value_counts().sort_index()\n",
    "\n",
    "# Plot the results\n",
    "fig, ax = plt.subplots()\n",
    "\n",
    "fig.subplots_adjust(top=0.85)\n",
    "\n",
    "# Set font sizes\n",
    "title_fontsize = 14\n",
    "label_fontsize = 12\n",
    "tick_fontsize = 12\n",
    "annotation_fontsize = 10\n",
    "\n",
    "bars = ax.bar(counts.index, counts.values)\n",
    "ax.set_title('Number of Records in Each Difficulty Level', fontsize=title_fontsize)\n",
    "ax.set_xlabel('Difficulty Level', fontsize=label_fontsize)\n",
    "ax.set_ylabel('Number of Records', fontsize=label_fontsize)\n",
    "ax.tick_params(axis='both', labelsize=tick_fontsize)\n",
    "\n",
    "# Add text annotations on top of each bar\n",
    "for bar in bars:\n",
    "    height = bar.get_height()\n",
    "    ax.annotate(f'{height}',\n",
    "                xy=(bar.get_x() + bar.get_width() / 2, height),\n",
    "                xytext=(0, 5),  # 3 points vertical offset\n",
    "                textcoords=\"offset points\",\n",
    "                ha='center', va='bottom',\n",
    "                fontsize=annotation_fontsize)\n",
    "    \n",
    "y_limit = max(height + max(counts.values) * 0.1 for height in counts)\n",
    "ax.set_ylim(0, y_limit)\n",
    "\n",
    "plt.show()"
   ]
  }
 ],
 "metadata": {
  "kernelspec": {
   "display_name": "eval-sphere",
   "language": "python",
   "name": "eval-sphere"
  },
  "language_info": {
   "codemirror_mode": {
    "name": "ipython",
    "version": 3
   },
   "file_extension": ".py",
   "mimetype": "text/x-python",
   "name": "python",
   "nbconvert_exporter": "python",
   "pygments_lexer": "ipython3",
   "version": "3.9.20"
  }
 },
 "nbformat": 4,
 "nbformat_minor": 4
}
