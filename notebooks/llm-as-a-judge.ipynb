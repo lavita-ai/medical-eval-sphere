{
 "cells": [
  {
   "cell_type": "markdown",
   "metadata": {},
   "source": [
    "## LLM-as-a-Judge"
   ]
  },
  {
   "cell_type": "code",
   "execution_count": 1,
   "metadata": {},
   "outputs": [],
   "source": [
    "import os\n",
    "import sys\n",
    "\n",
    "sys.path.insert(0, os.path.abspath('..') + '/src')\n",
    "\n",
    "import re\n",
    "import ast\n",
    "import json\n",
    "import random\n",
    "import pickle\n",
    "import pandas as pd\n",
    "from collections import OrderedDict\n",
    "from collections import Counter\n",
    "\n",
    "from annotation_tools import LabelAnalysis\n",
    "\n",
    "label_analysis = LabelAnalysis()"
   ]
  },
  {
   "cell_type": "markdown",
   "metadata": {},
   "source": [
    "We first run the script for generating LLM judgments.\n",
    "\n",
    "```\n",
    "./scripts/llm_judge.sh -m openai_gpt-4o-2024-05-13,anthropic_claude-3-5-sonnet-20240620 -d ../data/llm_judge -t ../data/prompts/llm_pairwise_judge_v1.txt\n",
    "\n",
    "```\n",
    "\n",
    "To run this script, we first need to put the CSV file of the batch we want to run this script on in the `../data/llm_judge` folder. This script will get that file as input and run the `llm_annotation.py` on it six times. The first three times are based on the default position of `response_a` and `response_b`, and the next three times are based on the reverse order of the responses. The results of these runs will be saved in a new CSV file under the column name `pred_[model_name]_ab|ba[run_number]` where `run_number` is one of `[1, 2, 3]`). The final CSV file for each batch that includes all six columns will be the input to the analysis in the next step."
   ]
  },
  {
   "cell_type": "markdown",
   "metadata": {},
   "source": [
    "### Testing robustness"
   ]
  },
  {
   "cell_type": "code",
   "execution_count": 2,
   "metadata": {},
   "outputs": [
    {
     "name": "stdout",
     "output_type": "stream",
     "text": [
      "Vote inconsistency in [ab] runs by models\r\n",
      "-----------------------------------------\r\n",
      "{'anthropic_claude-3-5-sonnet-20240620': 48, 'openai_gpt-4o-2024-05-13': 174}\r\n",
      "total: 222\r\n",
      "Vote inconsistency in [ba] runs by models\r\n",
      "-----------------------------------------\r\n",
      "{'anthropic_claude-3-5-sonnet-20240620': 69, 'openai_gpt-4o-2024-05-13': 199}\r\n",
      "total: 268\r\n",
      "\r\n",
      "Disagreements between [ab] and [ba] runs by model\r\n",
      "-------------------------------------------------\r\n",
      "* model: anthropic_claude-3-5-sonnet-20240620\r\n",
      "OrderedDict([('efficiency', {'count': 197}),\r\n",
      "             ('bias', {'count': 132}),\r\n",
      "             ('harmfulness', {'count': 95}),\r\n",
      "             ('reasoning', {'count': 74}),\r\n",
      "             ('correctness', {'count': 73}),\r\n",
      "             ('helpfulness', {'count': 52})])\r\n",
      "total: 623\r\n",
      "* model: openai_gpt-4o-2024-05-13\r\n",
      "OrderedDict([('efficiency', {'count': 94}),\r\n",
      "             ('correctness', {'count': 81}),\r\n",
      "             ('reasoning', {'count': 79}),\r\n",
      "             ('helpfulness', {'count': 72}),\r\n",
      "             ('harmfulness', {'count': 71})])\r\n",
      "total: 397\r\n",
      "\r\n",
      "Agreement between the two llm judges\r\n",
      "------------------------------------\r\n",
      "{'chance': 0.2984717013888889,\r\n",
      " 'cohen': np.float64(0.44763454194624186),\r\n",
      " 'pearson': np.float64(0.6168309368196159),\r\n",
      " 'percentage': np.float64(0.6125)}\r\n"
     ]
    }
   ],
   "source": [
    "!python ../src/llm_judge.py"
   ]
  },
  {
   "cell_type": "code",
   "execution_count": null,
   "metadata": {},
   "outputs": [],
   "source": []
  }
 ],
 "metadata": {
  "kernelspec": {
   "display_name": "eval-sphere",
   "language": "python",
   "name": "eval-sphere"
  },
  "language_info": {
   "codemirror_mode": {
    "name": "ipython",
    "version": 3
   },
   "file_extension": ".py",
   "mimetype": "text/x-python",
   "name": "python",
   "nbconvert_exporter": "python",
   "pygments_lexer": "ipython3",
   "version": "3.9.20"
  }
 },
 "nbformat": 4,
 "nbformat_minor": 4
}
